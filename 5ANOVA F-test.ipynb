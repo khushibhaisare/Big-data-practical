{
 "cells": [
  {
   "cell_type": "code",
   "execution_count": null,
   "id": "d0865236",
   "metadata": {},
   "outputs": [],
   "source": [
    "# Name: Khushi .S. Bhaisare\n",
    "# Class: 3rd year \n",
    "# Sec: A\n",
    "# Roll No. : 09"
   ]
  },
  {
   "cell_type": "markdown",
   "id": "914003e3",
   "metadata": {},
   "source": [
    "# ANOVA F-test(one way)"
   ]
  },
  {
   "cell_type": "code",
   "execution_count": 8,
   "id": "e37cd307",
   "metadata": {},
   "outputs": [],
   "source": [
    "import scipy.stats"
   ]
  },
  {
   "cell_type": "code",
   "execution_count": 9,
   "id": "25cc004f",
   "metadata": {},
   "outputs": [],
   "source": [
    "#data1=[34,55,2,45,56,67,23,17,37,25,22]\n",
    "#data2=[45,55,23,34,76,78,27,22,10,11,32]\n",
    "#data3=[21,18,29,36,51,90,46,73,31,42,79]"
   ]
  },
  {
   "cell_type": "code",
   "execution_count": 10,
   "id": "8d077ee4",
   "metadata": {},
   "outputs": [],
   "source": [
    "data1 = [0.0842, 0.0368, 0.0847, 0.0935, 0.0376, 0.0963, 0.0684, \n",
    " 0.0758, 0.0854, 0.0855] \n",
    "data2 = [0.0785, 0.0845, 0.0758, 0.0853, 0.0946, 0.0785, 0.0853, \n",
    " 0.0685] \n",
    "data3 = [0.0864, 0.2522, 0.0894, 0.2724, 0.0853, 0.1367, 0.853]"
   ]
  },
  {
   "cell_type": "code",
   "execution_count": 11,
   "id": "fa4ebbcc",
   "metadata": {},
   "outputs": [
    {
     "name": "stdout",
     "output_type": "stream",
     "text": [
      "p_value is: 0.04043792126789144\n"
     ]
    }
   ],
   "source": [
    "f_test,p_val=scipy.stats.f_oneway(data1,data2,data3)\n",
    "print(\"p_value is:\",p_val)"
   ]
  },
  {
   "cell_type": "code",
   "execution_count": 12,
   "id": "b7c499f7",
   "metadata": {},
   "outputs": [
    {
     "name": "stdout",
     "output_type": "stream",
     "text": [
      "We can reject the null hypothesis\n"
     ]
    }
   ],
   "source": [
    "#taking the threshold value as 0.05 or 5%\n",
    "if p_val<0.05:\n",
    "    print(\"We can reject the null hypothesis\")\n",
    "else:\n",
    "    print(\"We can accepting the null hypothesis\")"
   ]
  },
  {
   "cell_type": "code",
   "execution_count": null,
   "id": "08d7adbe",
   "metadata": {},
   "outputs": [],
   "source": []
  }
 ],
 "metadata": {
  "kernelspec": {
   "display_name": "Python 3 (ipykernel)",
   "language": "python",
   "name": "python3"
  },
  "language_info": {
   "codemirror_mode": {
    "name": "ipython",
    "version": 3
   },
   "file_extension": ".py",
   "mimetype": "text/x-python",
   "name": "python",
   "nbconvert_exporter": "python",
   "pygments_lexer": "ipython3",
   "version": "3.9.7"
  }
 },
 "nbformat": 4,
 "nbformat_minor": 5
}
