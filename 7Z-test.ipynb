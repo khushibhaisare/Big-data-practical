{
 "cells": [
  {
   "cell_type": "code",
   "execution_count": null,
   "id": "892d0ab5",
   "metadata": {},
   "outputs": [],
   "source": [
    "# Name: Khushi .S. Bhaisare\n",
    "# Class: 3rd year \n",
    "# Sec: A\n",
    "# Roll No. : 09"
   ]
  },
  {
   "cell_type": "markdown",
   "id": "6c39c0f8",
   "metadata": {},
   "source": [
    "# Z test"
   ]
  },
  {
   "cell_type": "code",
   "execution_count": 22,
   "id": "d334d62b",
   "metadata": {
    "scrolled": true
   },
   "outputs": [
    {
     "name": "stdout",
     "output_type": "stream",
     "text": [
      "[37.93536013 76.99339907 97.17580546 24.08600209 59.87982741 81.12314988\n",
      " 10.8837435  91.58267783 26.84321033 16.1502209  41.58794657 99.59416992\n",
      " 65.48300195 67.41421912 51.87333582 38.12023459 95.69416144 42.9235431\n",
      " 11.17877587 49.74327446 66.78118571 72.92095725 13.57439416 46.63581812\n",
      " 36.10656457 86.15677029 44.82901449 84.64134149 55.57483933 95.38228773\n",
      " 58.56131583 16.56288457 69.06970464 62.87072186 13.63079655 15.17805745\n",
      " 53.27332729 42.67689583 60.94258313 66.55390015 67.68894245 92.57309876\n",
      " 15.2815423  18.22143672 78.52454809 30.88313782 43.58714489 86.6655446\n",
      " 24.53282669 79.42699693]\n"
     ]
    }
   ],
   "source": [
    "import numpy as np\n",
    "ages=np.random.uniform(10,100,50)\n",
    "print(ages)\n"
   ]
  },
  {
   "cell_type": "code",
   "execution_count": 23,
   "id": "5a0b52fc",
   "metadata": {
    "scrolled": false
   },
   "outputs": [
    {
     "name": "stdout",
     "output_type": "stream",
     "text": [
      "53.71149278275132\n"
     ]
    }
   ],
   "source": [
    "ages_mean=np.mean(ages)\n",
    "print(ages_mean)"
   ]
  },
  {
   "cell_type": "code",
   "execution_count": 24,
   "id": "ee940b32",
   "metadata": {},
   "outputs": [],
   "source": [
    "#lets take sample\n",
    "sample_size=40\n",
    "ages_sample=np.random.choice(ages,sample_size)"
   ]
  },
  {
   "cell_type": "code",
   "execution_count": 25,
   "id": "f0753bda",
   "metadata": {},
   "outputs": [
    {
     "data": {
      "text/plain": [
       "array([13.57439416, 16.1502209 , 38.12023459, 44.82901449, 18.22143672,\n",
       "       46.63581812, 26.84321033, 42.67689583, 18.22143672, 65.48300195,\n",
       "       95.69416144, 43.58714489, 26.84321033, 11.17877587, 86.6655446 ,\n",
       "       42.9235431 , 66.55390015, 24.53282669, 78.52454809, 51.87333582,\n",
       "       79.42699693, 62.87072186, 16.1502209 , 81.12314988, 43.58714489,\n",
       "       86.6655446 , 41.58794657, 86.15677029, 78.52454809, 51.87333582,\n",
       "       42.67689583, 67.68894245, 66.55390015, 44.82901449, 86.6655446 ,\n",
       "       36.10656457, 67.68894245, 95.69416144, 81.12314988, 86.15677029])"
      ]
     },
     "execution_count": 25,
     "metadata": {},
     "output_type": "execute_result"
    }
   ],
   "source": [
    "ages_sample"
   ]
  },
  {
   "cell_type": "code",
   "execution_count": 26,
   "id": "5d28e5b0",
   "metadata": {
    "scrolled": false
   },
   "outputs": [
    {
     "data": {
      "text/plain": [
       "54.057073018821015"
      ]
     },
     "execution_count": 26,
     "metadata": {},
     "output_type": "execute_result"
    }
   ],
   "source": [
    "sample_mean=np.mean(ages_sample)\n",
    "sample_mean"
   ]
  },
  {
   "cell_type": "code",
   "execution_count": 27,
   "id": "d5e0fe66",
   "metadata": {},
   "outputs": [],
   "source": [
    "#from scipy.stats import ztest_1samp"
   ]
  },
  {
   "cell_type": "code",
   "execution_count": 28,
   "id": "46b9d814",
   "metadata": {
    "scrolled": true
   },
   "outputs": [],
   "source": [
    "from statsmodels.stats import weightstats as stests"
   ]
  },
  {
   "cell_type": "code",
   "execution_count": 29,
   "id": "08a04287",
   "metadata": {},
   "outputs": [
    {
     "name": "stdout",
     "output_type": "stream",
     "text": [
      "ztest: 13.303367227740043\n",
      "p_value: 2.212742505240049e-40\n"
     ]
    }
   ],
   "source": [
    "#perform one sample ztest \n",
    "ztest,p_value=stests.ztest(ages_sample)\n",
    "print(\"ztest:\",ztest)\n",
    "print(\"p_value:\",p_value)"
   ]
  },
  {
   "cell_type": "code",
   "execution_count": 30,
   "id": "bbdeebc6",
   "metadata": {},
   "outputs": [
    {
     "name": "stdout",
     "output_type": "stream",
     "text": [
      "we are rejecting null hypothesis\n"
     ]
    }
   ],
   "source": [
    "if p_value<0.05:\n",
    "    print(\"we are rejecting null hypothesis\")\n",
    "else:\n",
    "    print(\"we are accepting null hypothesis\")\n",
    "    "
   ]
  },
  {
   "cell_type": "code",
   "execution_count": null,
   "id": "0286d002",
   "metadata": {},
   "outputs": [],
   "source": []
  }
 ],
 "metadata": {
  "kernelspec": {
   "display_name": "Python 3 (ipykernel)",
   "language": "python",
   "name": "python3"
  },
  "language_info": {
   "codemirror_mode": {
    "name": "ipython",
    "version": 3
   },
   "file_extension": ".py",
   "mimetype": "text/x-python",
   "name": "python",
   "nbconvert_exporter": "python",
   "pygments_lexer": "ipython3",
   "version": "3.9.7"
  }
 },
 "nbformat": 4,
 "nbformat_minor": 5
}
